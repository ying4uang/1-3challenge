{
 "cells": [
  {
   "cell_type": "markdown",
   "metadata": {},
   "source": [
    "## Number of Users\n",
    "### 1. How many users are in the dataset?\n",
    "### 2. How many users are active users?"
   ]
  },
  {
   "cell_type": "code",
   "execution_count": 117,
   "metadata": {
    "collapsed": false
   },
   "outputs": [
    {
     "name": "stdout",
     "output_type": "stream",
     "text": [
      "Total Users:161803\n",
      "Total Active Users:153115\n"
     ]
    }
   ],
   "source": [
    "import pandas as pd\n",
    "import matplotlib.pyplot as plt\n",
    "\n",
    "df_user = pd.read_csv('./users.tsv',sep='\\t')\n",
    "\n",
    "df_listen = pd.read_csv('./listens.tsv',sep='\\t')\n",
    "df_artist = pd.read_csv('./artists.tsv',sep='\\t')\n",
    "df_join = pd.merge(df_user, df_listen, on='profile_id')\n",
    "\n",
    "print(\"Total Users:\"+str(len(df_user.profile_id.unique())))\n",
    "print(\"Total Active Users:\"+str(len(df_join.profile_id.unique())))\n",
    "\n",
    "\n",
    "\n"
   ]
  },
  {
   "cell_type": "code",
   "execution_count": 148,
   "metadata": {
    "collapsed": false
   },
   "outputs": [
    {
     "name": "stdout",
     "output_type": "stream",
     "text": [
      "500\n",
      "153115\n",
      "505\n"
     ]
    }
   ],
   "source": [
    "#Data Profiling\n",
    "print(len(df_listen['artist_seed'].unique()))\n",
    "print(len(df_listen['profile_id'].unique()))\n",
    "print(len(df_listen['tracks_listened_to'].unique()))\n",
    "\n"
   ]
  },
  {
   "cell_type": "markdown",
   "metadata": {},
   "source": [
    "## User Age\n",
    "### 1. average age of active listener"
   ]
  },
  {
   "cell_type": "code",
   "execution_count": 110,
   "metadata": {
    "collapsed": false
   },
   "outputs": [
    {
     "name": "stdout",
     "output_type": "stream",
     "text": [
      "35.9748424968\n"
     ]
    }
   ],
   "source": [
    "X1 = df_user[(df_user.profile_id.isin(df_listen.profile_id))].age.dropna().mean()\n",
    "print(X1)"
   ]
  },
  {
   "cell_type": "markdown",
   "metadata": {},
   "source": [
    "### 2. average age of inactive listener"
   ]
  },
  {
   "cell_type": "code",
   "execution_count": 109,
   "metadata": {
    "collapsed": false
   },
   "outputs": [
    {
     "name": "stdout",
     "output_type": "stream",
     "text": [
      "39.2501940994\n"
     ]
    }
   ],
   "source": [
    "X2 = df_user[~(df_user.profile_id.isin(df_listen.profile_id))].age.dropna().mean()\n",
    "print(X2)"
   ]
  },
  {
   "cell_type": "markdown",
   "metadata": {},
   "source": [
    "\n",
    "### 3. Significance of User Mean"
   ]
  },
  {
   "cell_type": "code",
   "execution_count": 189,
   "metadata": {
    "collapsed": false
   },
   "outputs": [
    {
     "name": "stdout",
     "output_type": "stream",
     "text": [
      "NormaltestResult(statistic=5172.3018044162272, pvalue=0.0)\n",
      "NormaltestResult(statistic=168.09726520934271, pvalue=3.1487823926918672e-37)\n",
      "Ttest_indResult(statistic=-20.090121748002499, pvalue=1.3646342218184833e-89)\n"
     ]
    }
   ],
   "source": [
    "from numpy import sqrt, abs, round\n",
    "from scipy.stats import norm\n",
    "from scipy import stats\n",
    "\n",
    "\n",
    "#standard deviations\n",
    "sd1 = df_user[(df_user.profile_id.isin(df_listen.profile_id))].age.dropna().std()\n",
    "sd2 = df_user[~(df_user.profile_id.isin(df_listen.profile_id))].age.dropna().std()\n",
    "#sample sizes\n",
    "n1 = df_user[(df_user.profile_id.isin(df_listen.profile_id))].age.count()\n",
    "n2 = df_user[~(df_user.profile_id.isin(df_listen.profile_id))].age.count()\n",
    "#two samples\n",
    "x1_array = df_user[(df_user.profile_id.isin(df_listen.profile_id))].age.dropna()\n",
    "x2_array = df_user[~(df_user.profile_id.isin(df_listen.profile_id))].age.dropna()\n",
    "# means\n",
    "mu1 = df_user[(df_user.profile_id.isin(df_listen.profile_id))].age.dropna().mean()\n",
    "mu2 = df_user[~(df_user.profile_id.isin(df_listen.profile_id))].age.dropna().mean()\n",
    "\n",
    "# we can see that the two sets of data are actually not normally distributed. However as our sample is large enough\n",
    "print(stats.normaltest(x1_array))\n",
    "print(stats.normaltest(x2_array))\n",
    "\n",
    "\n",
    "ttest=stats.ttest_ind(x1_array,x2_array)\n",
    "print(ttest)\n",
    "\n",
    "# Our null hypothesis states that there is no difference between two population samples.\n",
    "# we can see that p-value is very close to zero, less than the significance leve(0.05), we can reject the null hypothesis\n",
    "\n"
   ]
  },
  {
   "cell_type": "markdown",
   "metadata": {},
   "source": [
    "## Demographic Visualization"
   ]
  },
  {
   "cell_type": "code",
   "execution_count": 144,
   "metadata": {
    "collapsed": false
   },
   "outputs": [
    {
     "data": {
      "text/plain": [
       "gender  gender  genre     \n",
       "FEMALE  FEMALE  Pop           241714\n",
       "                R&B           174232\n",
       "                Rap           125931\n",
       "                Country       103443\n",
       "                Rock           94083\n",
       "                Latin          27172\n",
       "                Religious      24696\n",
       "                Electronic     11704\n",
       "                Reggae          3446\n",
       "                Folk            3281\n",
       "MALE    MALE    Rock          170009\n",
       "                Rap           151763\n",
       "                Country        87988\n",
       "                Pop            83580\n",
       "                R&B            62350\n",
       "                Latin          17710\n",
       "                Electronic     12860\n",
       "                Religious      11899\n",
       "                Reggae          4175\n",
       "                Blues           2321\n",
       "dtype: int64"
      ]
     },
     "execution_count": 144,
     "metadata": {},
     "output_type": "execute_result"
    }
   ],
   "source": [
    "# The code below retrieves top genre by gender\n",
    "df1 = df_join.merge(df_artist, left_on ='artist_seed',right_on ='artist_id')\n",
    "x = df1.groupby(['gender','genre']).size()\n",
    "x.groupby(level=0).nlargest(10)#.to_csv(\"gender.csv\")\n",
    "\n"
   ]
  },
  {
   "cell_type": "code",
   "execution_count": 145,
   "metadata": {
    "collapsed": false
   },
   "outputs": [
    {
     "data": {
      "text/plain": [
       "age       age       genre     \n",
       "(10, 20]  (10, 20]  Pop           24851\n",
       "                    Rap           18836\n",
       "                    R&B           12837\n",
       "                    Rock          12084\n",
       "                    Country        9889\n",
       "                    Latin          2532\n",
       "                    Electronic     1399\n",
       "                    Religious       989\n",
       "                    Folk            328\n",
       "                    Reggae          265\n",
       "(20, 30]  (20, 30]  Rap           85430\n",
       "                    Pop           76409\n",
       "                    R&B           59964\n",
       "                    Rock          55177\n",
       "                    Country       46168\n",
       "                    Latin         13400\n",
       "                    Electronic     7229\n",
       "                    Religious      5563\n",
       "                    Reggae         1684\n",
       "                    Folk           1102\n",
       "(30, 40]  (30, 40]  Pop           78973\n",
       "                    Rap           71710\n",
       "                    R&B           60838\n",
       "                    Rock          56556\n",
       "                    Country       41757\n",
       "                    Latin         12471\n",
       "                    Religious      9344\n",
       "                    Electronic     5823\n",
       "                    Reggae         1959\n",
       "                    Vocal          1054\n",
       "(40, 50]  (40, 50]  Rock          43496\n",
       "                    Pop           38381\n",
       "                    R&B           28535\n",
       "                    Country       24228\n",
       "                    Rap           20635\n",
       "                    Religious      6964\n",
       "                    Latin          3458\n",
       "                    Electronic     2175\n",
       "                    Reggae         1361\n",
       "                    Blues          1134\n",
       "(50, 60]  (50, 60]  Rock          16978\n",
       "                    Pop           15209\n",
       "                    Country       10069\n",
       "                    R&B            9755\n",
       "                    Rap            4029\n",
       "                    Religious      3035\n",
       "                    Blues           887\n",
       "                    Latin           707\n",
       "                    Vocal           629\n",
       "                    Reggae          461\n",
       "(60, 70]  (60, 70]  Pop            3593\n",
       "                    Rock           3302\n",
       "                    Country        2336\n",
       "                    R&B            1881\n",
       "                    Religious       839\n",
       "                    Rap             545\n",
       "                    Vocal           244\n",
       "                    Blues           213\n",
       "                    Jazz            176\n",
       "                    Folk            119\n",
       "dtype: int64"
      ]
     },
     "execution_count": 145,
     "metadata": {},
     "output_type": "execute_result"
    }
   ],
   "source": [
    "# The code below retrieves top genre by age group\n",
    "bins = [0, 10, 20, 30, 40, 50, 60, 70]\n",
    "df1['age'] = pd.cut(df1['age'], bins)\n",
    "y = df1.groupby(['age','genre']).size()\n",
    "y.groupby(level=0).nlargest(10)\n",
    "\n",
    "\n"
   ]
  },
  {
   "cell_type": "code",
   "execution_count": null,
   "metadata": {
    "collapsed": true
   },
   "outputs": [],
   "source": []
  }
 ],
 "metadata": {
  "kernelspec": {
   "display_name": "Python 3",
   "language": "python",
   "name": "python3"
  },
  "language_info": {
   "codemirror_mode": {
    "name": "ipython",
    "version": 3
   },
   "file_extension": ".py",
   "mimetype": "text/x-python",
   "name": "python",
   "nbconvert_exporter": "python",
   "pygments_lexer": "ipython3",
   "version": "3.5.2"
  }
 },
 "nbformat": 4,
 "nbformat_minor": 1
}
